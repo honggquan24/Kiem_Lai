{
 "cells": [
  {
   "cell_type": "code",
   "execution_count": 3,
   "metadata": {},
   "outputs": [],
   "source": [
    "import subprocess\n",
    "\n",
    "for i in range(1, 410):\n",
    "    url = f'https://truyen.tangthuvien.vn/doc-truyen/kiem-lai---tang-thu-vien/chuong-{i}'\n",
    "    output = f'Chap_{i}.txt'\n",
    "    subprocess.run(['curl', '-L', url, '-o', output])\n",
    "    \n",
    "    len_file = 0\n",
    "    with open(output, 'r') as f:\n",
    "        len_file_f = len(f.readlines())\n",
    "        len_file = len_file_f\n",
    "        \n",
    "    with open(output, 'r+') as f:\n",
    "        lines = f.readlines()\n",
    "        f.seek(0)\n",
    "        for i, line in enumerate(lines):\n",
    "            if 295 < i < (len_file - 659):\n",
    "                if i == 296:\n",
    "                    f.write(line[56:])\n",
    "                else:\n",
    "                    f.write(line)\n",
    "        f.truncate()"
   ]
  },
  {
   "cell_type": "code",
   "execution_count": null,
   "metadata": {},
   "outputs": [],
   "source": []
  }
 ],
 "metadata": {
  "kernelspec": {
   "display_name": "tf",
   "language": "python",
   "name": "python3"
  },
  "language_info": {
   "codemirror_mode": {
    "name": "ipython",
    "version": 3
   },
   "file_extension": ".py",
   "mimetype": "text/x-python",
   "name": "python",
   "nbconvert_exporter": "python",
   "pygments_lexer": "ipython3",
   "version": "3.11.7"
  }
 },
 "nbformat": 4,
 "nbformat_minor": 2
}
